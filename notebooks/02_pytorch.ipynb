{
 "cells": [
  {
   "cell_type": "markdown",
   "metadata": {},
   "source": [
    "# **Introducción a PyTorch**\n",
    "\n",
    "PyTorch es una biblioteca de código abierto desarrollada por Facebook para computación numérica y aprendizaje automático. Proporciona una plataforma flexible y eficiente para construir y entrenar modelos de aprendizaje automático y redes neuronales profundas.\n",
    "\n",
    "A continuación, se presenta un tutorial paso a paso que cubre las características destacables de PyTorch, desde la creación de tensores hasta el entrenamiento de modelos."
   ]
  },
  {
   "cell_type": "markdown",
   "metadata": {},
   "source": [
    "## **1. Creación de Tensores**\n",
    "\n",
    "Los tensores son la estructura de datos básica en PyTorch. Pueden ser escalares, vectores, matrices o tensores de dimensiones superiores."
   ]
  },
  {
   "cell_type": "code",
   "execution_count": 1,
   "metadata": {},
   "outputs": [
    {
     "name": "stdout",
     "output_type": "stream",
     "text": [
      "Escalar: tensor(7)\n",
      "Vector: tensor([1., 2., 3.])\n",
      "Matriz: tensor([[1, 2],\n",
      "        [3, 4]])\n",
      "Tensor: tensor([[[1, 2],\n",
      "         [3, 4]],\n",
      "\n",
      "        [[5, 6],\n",
      "         [7, 8]]])\n"
     ]
    }
   ],
   "source": [
    "import torch\n",
    "\n",
    "# Escalar (tensor de cero dimensiones)\n",
    "escalar = torch.tensor(7)\n",
    "print(\"Escalar:\", escalar)\n",
    "\n",
    "# Vector (tensor de una dimensión)\n",
    "vector = torch.tensor([1.0, 2.0, 3.0])\n",
    "print(\"Vector:\", vector)\n",
    "\n",
    "# Matriz (tensor de dos dimensiones)\n",
    "matriz = torch.tensor([[1, 2], [3, 4]])\n",
    "print(\"Matriz:\", matriz)\n",
    "\n",
    "# Tensor de dimensiones superiores\n",
    "tensor = torch.tensor([[[1, 2], [3, 4]], [[5, 6], [7, 8]]])\n",
    "print(\"Tensor:\", tensor)"
   ]
  },
  {
   "cell_type": "markdown",
   "metadata": {},
   "source": [
    "\n",
    "## **2. Operaciones Básicas con Tensores**\n",
    "\n",
    "Puedes realizar operaciones matemáticas con tensores, como suma, resta, multiplicación, etc."
   ]
  },
  {
   "cell_type": "code",
   "execution_count": 2,
   "metadata": {},
   "outputs": [
    {
     "name": "stdout",
     "output_type": "stream",
     "text": [
      "Suma: tensor([5, 7, 9])\n",
      "Multiplicación: tensor([ 4, 10, 18])\n",
      "Producto Matricial: tensor([[19, 22],\n",
      "        [43, 50]])\n"
     ]
    }
   ],
   "source": [
    "a = torch.tensor([1, 2, 3])\n",
    "b = torch.tensor([4, 5, 6])\n",
    "\n",
    "# Suma\n",
    "suma = torch.add(a, b)\n",
    "print(\"Suma:\", suma)\n",
    "\n",
    "# Multiplicación\n",
    "a = torch.tensor([1, 2, 3])\n",
    "b = torch.tensor([4, 5, 6])\n",
    "multiplicacion = torch.mul(a, b)\n",
    "print(\"Multiplicación:\", multiplicacion)\n",
    "\n",
    "# Producto matricial\n",
    "matriz1 = torch.tensor([[1, 2], [3, 4]])\n",
    "matriz2 = torch.tensor([[5, 6], [7, 8]])\n",
    "producto = torch.matmul(matriz1, matriz2)\n",
    "print(\"Producto Matricial:\", producto)"
   ]
  },
  {
   "cell_type": "markdown",
   "metadata": {},
   "source": [
    "\n",
    "## **3. Gradientes y Auto-Diferenciación**\n",
    "\n",
    "PyTorch permite calcular gradientes automáticamente utilizando `torch.autograd`. Esto es útil para el entrenamiento de modelos mediante optimización basada en gradientes."
   ]
  },
  {
   "cell_type": "code",
   "execution_count": 3,
   "metadata": {},
   "outputs": [
    {
     "name": "stdout",
     "output_type": "stream",
     "text": [
      "El gradiente de y respecto a x en x=3.0 es: tensor(6.)\n"
     ]
    }
   ],
   "source": [
    "# Definimos una variable\n",
    "x = torch.tensor(3.0, requires_grad=True)\n",
    "\n",
    "# Calculamos la función para la cual queremos el gradiente\n",
    "y = x ** 2\n",
    "\n",
    "# Calculamos el gradiente de y respecto a x\n",
    "y.backward()\n",
    "print(\"El gradiente de y respecto a x en x=3.0 es:\", x.grad)"
   ]
  },
  {
   "cell_type": "markdown",
   "metadata": {},
   "source": [
    "## **4. Construcción de un Modelo de Regresión Lineal**\n",
    "\n",
    "Ahora, veamos un ejemplo completo de cómo construir y entrenar un modelo sencillo usando PyTorch: una regresión lineal."
   ]
  },
  {
   "cell_type": "code",
   "execution_count": 4,
   "metadata": {},
   "outputs": [
    {
     "name": "stdout",
     "output_type": "stream",
     "text": [
      "Epoch 10: pérdida = 0.6366785168647766, W = 2.201432466506958, b = -0.21856509149074554\n",
      "Epoch 20: pérdida = 0.6005821824073792, W = 2.192554235458374, b = -0.1593771129846573\n",
      "Epoch 30: pérdida = 0.5679053664207458, W = 2.1840872764587402, b = -0.10306552052497864\n",
      "Epoch 40: pérdida = 0.5383244752883911, W = 2.1760313510894775, b = -0.04948756471276283\n",
      "Epoch 50: pérdida = 0.5115457773208618, W = 2.1683664321899414, b = 0.0014894385822117329\n",
      "Epoch 60: pérdida = 0.4873040020465851, W = 2.1610734462738037, b = 0.04999168589711189\n",
      "Epoch 70: pérdida = 0.4653586447238922, W = 2.154134750366211, b = 0.09613936394453049\n",
      "Epoch 80: pérdida = 0.44549232721328735, W = 2.1475329399108887, b = 0.14004677534103394\n",
      "Epoch 90: pérdida = 0.42750808596611023, W = 2.1412513256073, b = 0.18182267248630524\n",
      "Epoch 100: pérdida = 0.4112274944782257, W = 2.135274887084961, b = 0.22157053649425507\n",
      "\n",
      "Modelo entrenado: Y = 2.135274887084961 * X + 0.22157053649425507\n"
     ]
    }
   ],
   "source": [
    "import torch\n",
    "import numpy as np\n",
    "\n",
    "# Generamos datos de ejemplo\n",
    "# y = 2x + 1 + ruido\n",
    "X = np.linspace(0, 10, 100)\n",
    "ruido = np.random.randn(*X.shape) * 0.5\n",
    "Y = 2 * X + 1 + ruido\n",
    "\n",
    "# Convertimos los datos a tensores\n",
    "X = torch.tensor(X, dtype=torch.float32).view(-1, 1)\n",
    "Y = torch.tensor(Y, dtype=torch.float32).view(-1, 1)\n",
    "\n",
    "# Definimos el modelo lineal\n",
    "W = torch.randn(1, requires_grad=True)\n",
    "b = torch.randn(1, requires_grad=True)\n",
    "\n",
    "# Definimos el número de épocas y la tasa de aprendizaje\n",
    "epochs = 100\n",
    "learning_rate = 0.01\n",
    "\n",
    "# Entrenamiento del modelo\n",
    "for epoch in range(epochs):\n",
    "    # Calculamos las predicciones\n",
    "    Y_pred = W * X + b\n",
    "    # Calculamos el error (función de pérdida)\n",
    "    loss = torch.mean((Y - Y_pred) ** 2)\n",
    "    # Calculamos los gradientes\n",
    "    loss.backward()\n",
    "    # Actualizamos los parámetros\n",
    "    with torch.no_grad():\n",
    "        W -= learning_rate * W.grad\n",
    "        b -= learning_rate * b.grad\n",
    "    # Vaciamos los gradientes\n",
    "    W.grad.zero_()\n",
    "    b.grad.zero_()\n",
    "\n",
    "    if (epoch+1) % 10 == 0:\n",
    "        print(f\"Epoch {epoch+1}: pérdida = {loss.item()}, W = {W.item()}, b = {b.item()}\")\n",
    "\n",
    "print(f\"\\nModelo entrenado: Y = {W.item()} * X + {b.item()}\")"
   ]
  },
  {
   "cell_type": "markdown",
   "metadata": {},
   "source": [
    "## **5. Uso de PyTorch nn para Construir y Entrenar Modelos**\n",
    "\n",
    "PyTorch incluye el módulo `torch.nn`, que proporciona una API de alto nivel para construir y entrenar modelos de forma más sencilla."
   ]
  },
  {
   "cell_type": "code",
   "execution_count": 5,
   "metadata": {},
   "outputs": [
    {
     "name": "stdout",
     "output_type": "stream",
     "text": [
      "\n",
      "Modelo entrenado: [Parameter containing:\n",
      "tensor([[2.1044]], requires_grad=True), Parameter containing:\n",
      "tensor([0.3352], requires_grad=True)]\n"
     ]
    }
   ],
   "source": [
    "import torch\n",
    "import torch.nn as nn\n",
    "import numpy as np\n",
    "\n",
    "# Generamos datos de ejemplo\n",
    "X = np.linspace(0, 10, 100)\n",
    "ruido = np.random.randn(*X.shape) * 0.5\n",
    "Y = 2 * X + 1 + ruido\n",
    "\n",
    "# Convertimos los datos a tensores\n",
    "X = torch.tensor(X, dtype=torch.float32).view(-1, 1)\n",
    "Y = torch.tensor(Y, dtype=torch.float32).view(-1, 1)\n",
    "\n",
    "# Definimos el modelo usando nn\n",
    "model = nn.Sequential(\n",
    "    nn.Linear(1, 1)\n",
    ")\n",
    "\n",
    "# Definimos la función de pérdida y el optimizador\n",
    "criterion = nn.MSELoss()\n",
    "optimizer = torch.optim.SGD(model.parameters(), lr=0.01)\n",
    "\n",
    "# Entrenamos el modelo\n",
    "epochs = 100\n",
    "for epoch in range(epochs):\n",
    "    # Hacemos una predicción\n",
    "    Y_pred = model(X)\n",
    "    # Calculamos la pérdida\n",
    "    loss = criterion(Y_pred, Y)\n",
    "    # Retropropagación\n",
    "    optimizer.zero_grad()\n",
    "    loss.backward()\n",
    "    optimizer.step()\n",
    "\n",
    "print(f\"\\nModelo entrenado: {list(model.parameters())}\")"
   ]
  },
  {
   "cell_type": "markdown",
   "metadata": {},
   "source": [
    "## **6. Construcción de una Red Neuronal para Clasificación**\n",
    "\n",
    "Veamos un ejemplo de cómo construir una red neuronal para resolver un problema de clasificación utilizando el conjunto de datos MNIST."
   ]
  },
  {
   "cell_type": "code",
   "execution_count": 6,
   "metadata": {},
   "outputs": [
    {
     "name": "stdout",
     "output_type": "stream",
     "text": [
      "Downloading http://yann.lecun.com/exdb/mnist/train-images-idx3-ubyte.gz\n",
      "Failed to download (trying next):\n",
      "<urlopen error [SSL: CERTIFICATE_VERIFY_FAILED] certificate verify failed: certificate has expired (_ssl.c:1007)>\n",
      "\n",
      "Downloading https://ossci-datasets.s3.amazonaws.com/mnist/train-images-idx3-ubyte.gz\n",
      "Downloading https://ossci-datasets.s3.amazonaws.com/mnist/train-images-idx3-ubyte.gz to ./data\\MNIST\\raw\\train-images-idx3-ubyte.gz\n"
     ]
    },
    {
     "name": "stderr",
     "output_type": "stream",
     "text": [
      "100%|██████████| 9912422/9912422 [00:00<00:00, 11993957.76it/s]\n"
     ]
    },
    {
     "name": "stdout",
     "output_type": "stream",
     "text": [
      "Extracting ./data\\MNIST\\raw\\train-images-idx3-ubyte.gz to ./data\\MNIST\\raw\n",
      "\n",
      "Downloading http://yann.lecun.com/exdb/mnist/train-labels-idx1-ubyte.gz\n",
      "Failed to download (trying next):\n",
      "<urlopen error [SSL: CERTIFICATE_VERIFY_FAILED] certificate verify failed: certificate has expired (_ssl.c:1007)>\n",
      "\n",
      "Downloading https://ossci-datasets.s3.amazonaws.com/mnist/train-labels-idx1-ubyte.gz\n",
      "Downloading https://ossci-datasets.s3.amazonaws.com/mnist/train-labels-idx1-ubyte.gz to ./data\\MNIST\\raw\\train-labels-idx1-ubyte.gz\n"
     ]
    },
    {
     "name": "stderr",
     "output_type": "stream",
     "text": [
      "100%|██████████| 28881/28881 [00:00<00:00, 297130.61it/s]\n"
     ]
    },
    {
     "name": "stdout",
     "output_type": "stream",
     "text": [
      "Extracting ./data\\MNIST\\raw\\train-labels-idx1-ubyte.gz to ./data\\MNIST\\raw\n",
      "\n",
      "Downloading http://yann.lecun.com/exdb/mnist/t10k-images-idx3-ubyte.gz\n",
      "Failed to download (trying next):\n",
      "<urlopen error [SSL: CERTIFICATE_VERIFY_FAILED] certificate verify failed: certificate has expired (_ssl.c:1007)>\n",
      "\n",
      "Downloading https://ossci-datasets.s3.amazonaws.com/mnist/t10k-images-idx3-ubyte.gz\n",
      "Downloading https://ossci-datasets.s3.amazonaws.com/mnist/t10k-images-idx3-ubyte.gz to ./data\\MNIST\\raw\\t10k-images-idx3-ubyte.gz\n"
     ]
    },
    {
     "name": "stderr",
     "output_type": "stream",
     "text": [
      "100%|██████████| 1648877/1648877 [00:00<00:00, 3271682.28it/s]\n"
     ]
    },
    {
     "name": "stdout",
     "output_type": "stream",
     "text": [
      "Extracting ./data\\MNIST\\raw\\t10k-images-idx3-ubyte.gz to ./data\\MNIST\\raw\n",
      "\n",
      "Downloading http://yann.lecun.com/exdb/mnist/t10k-labels-idx1-ubyte.gz\n",
      "Failed to download (trying next):\n",
      "<urlopen error [SSL: CERTIFICATE_VERIFY_FAILED] certificate verify failed: certificate has expired (_ssl.c:1007)>\n",
      "\n",
      "Downloading https://ossci-datasets.s3.amazonaws.com/mnist/t10k-labels-idx1-ubyte.gz\n",
      "Downloading https://ossci-datasets.s3.amazonaws.com/mnist/t10k-labels-idx1-ubyte.gz to ./data\\MNIST\\raw\\t10k-labels-idx1-ubyte.gz\n"
     ]
    },
    {
     "name": "stderr",
     "output_type": "stream",
     "text": [
      "100%|██████████| 4542/4542 [00:00<00:00, 4409844.62it/s]"
     ]
    },
    {
     "name": "stdout",
     "output_type": "stream",
     "text": [
      "Extracting ./data\\MNIST\\raw\\t10k-labels-idx1-ubyte.gz to ./data\\MNIST\\raw\n",
      "\n"
     ]
    },
    {
     "name": "stderr",
     "output_type": "stream",
     "text": [
      "\n"
     ]
    }
   ],
   "source": [
    "import torch\n",
    "import torch.nn as nn\n",
    "import torch.optim as optim\n",
    "import torchvision\n",
    "import torchvision.transforms as transforms\n",
    "import matplotlib.pyplot as plt\n",
    "\n",
    "# Cargamos el conjunto de datos MNIST\n",
    "transform = transforms.Compose([transforms.ToTensor(), transforms.Normalize((0.5,), (0.5,))]) # Normalizamos los datos\n",
    "trainset = torchvision.datasets.MNIST(root='./data', train=True, download=True, transform=transform)\n",
    "trainloader = torch.utils.data.DataLoader(trainset, batch_size=64, shuffle=True)\n",
    "testset = torchvision.datasets.MNIST(root='./data', train=False, download=True, transform=transform)\n",
    "testloader = torch.utils.data.DataLoader(testset, batch_size=64, shuffle=False)"
   ]
  },
  {
   "cell_type": "markdown",
   "metadata": {},
   "source": [
    "## Sobre la transformación\n",
    "\n",
    "La transformación `transforms.Normalize((0.5,), (0.5,))` en PyTorch se utiliza comúnmente para normalizar datos, y aquí está configurada para imágenes en escala de grises con un solo canal (por eso el uso de `(0.5,)` en lugar de `(0.5, 0.5, 0.5)` que sería para imágenes RGB).\n",
    "\n",
    "### Explicación detallada\n",
    "\n",
    "1. **Fórmula de normalización**:\n",
    "   La fórmula que usa `transforms.Normalize(mean, std)` es:\n",
    "\n",
    "   $$ \\text{output} = \\frac{\\text{input} - \\text{mean}}{\\text{std}} $$\n",
    "\n",
    "2. **En este caso específico**:\n",
    "   - `mean=(0.5,)`: El valor medio de los datos se establece en 0.5.\n",
    "   - `std=(0.5,)`: La desviación estándar se establece en 0.5.\n",
    "   \n",
    "   Entonces, la transformación normaliza cada valor de píxel `x` en la imagen usando la fórmula:\n",
    "\n",
    "   $$ x_{\\text{normalizado}} = \\frac{x - 0.5}{0.5} $$\n",
    "\n",
    "   Esto convierte los valores de entrada de un rango de `[0, 1]` a un rango de `[-1, 1]`.\n",
    "\n",
    "3. **Por qué hacerlo**:\n",
    "   - Esta normalización centra los datos alrededor de cero y los escala, lo cual es útil para muchas redes neuronales, ya que facilita la convergencia y estabiliza el entrenamiento.\n",
    "   - Es especialmente común para imágenes que inicialmente están en el rango `[0, 1]` (si se han normalizado previamente al dividir entre 255).\n"
   ]
  },
  {
   "cell_type": "code",
   "execution_count": 7,
   "metadata": {},
   "outputs": [
    {
     "name": "stdout",
     "output_type": "stream",
     "text": [
      "Tamaño del conjunto de entrenamiento: 60000\n",
      "Tamaño del conjunto de prueba: 10000\n"
     ]
    },
    {
     "data": {
      "image/png": "[encoded data removed]",
      "text/plain": [
       "<Figure size 1000x1000 with 25 Axes>"
      ]
     },
     "metadata": {},
     "output_type": "display_data"
    }
   ],
   "source": [
    "# Mostramos el tamaño de los datasets\n",
    "print(f\"Tamaño del conjunto de entrenamiento: {len(trainset)}\")\n",
    "print(f\"Tamaño del conjunto de prueba: {len(testset)}\")\n",
    "\n",
    "# Mostramos una matriz de 5x5 ejemplos de imágenes con sus etiquetas\n",
    "dataiter = iter(trainloader)\n",
    "images, labels = next(dataiter)\n",
    "fig, axes = plt.subplots(5, 5, figsize=(10, 10))\n",
    "fig.suptitle(\"Ejemplos de imágenes MNIST con etiquetas\")\n",
    "for i, ax in enumerate(axes.flat):\n",
    "    ax.imshow(images[i].numpy().squeeze(), cmap='gray')\n",
    "    ax.set_title(f\"Etiqueta: {labels[i].item()}\")\n",
    "    ax.axis('off')\n",
    "plt.show()"
   ]
  },
  {
   "cell_type": "code",
   "execution_count": 8,
   "metadata": {},
   "outputs": [],
   "source": [
    "# Construimos el modelo\n",
    "class Net(nn.Module):\n",
    "    def __init__(self):\n",
    "        super(Net, self).__init__()\n",
    "        self.flatten = nn.Flatten()\n",
    "        self.fc1 = nn.Linear(28 * 28, 128)\n",
    "        self.fc2 = nn.Linear(128, 10)\n",
    "\n",
    "    def forward(self, x):\n",
    "        x = self.flatten(x)\n",
    "        x = torch.relu(self.fc1(x))\n",
    "        x = self.fc2(x)\n",
    "        return x\n",
    "\n",
    "model = Net()\n",
    "\n",
    "# Definimos la función de pérdida y el optimizador\n",
    "criterion = nn.CrossEntropyLoss()\n",
    "optimizer = optim.Adam(model.parameters(), lr=0.001)\n",
    "\n",
    "# Entrenamos el modelo\n",
    "for epoch in range(5):\n",
    "    for images, labels in trainloader:\n",
    "        # Hacemos una predicción\n",
    "        outputs = model(images)\n",
    "        # Calculamos la pérdida\n",
    "        loss = criterion(outputs, labels)\n",
    "        # Retropropagación\n",
    "        optimizer.zero_grad()\n",
    "        loss.backward()\n",
    "        optimizer.step()"
   ]
  },
  {
   "cell_type": "code",
   "execution_count": 9,
   "metadata": {},
   "outputs": [
    {
     "name": "stdout",
     "output_type": "stream",
     "text": [
      "\n",
      "Precisión en test: 97.02%\n"
     ]
    }
   ],
   "source": [
    "# Evaluamos el modelo\n",
    "correct = 0\n",
    "total = 0\n",
    "with torch.no_grad():\n",
    "    for images, labels in testloader:\n",
    "        outputs = model(images)\n",
    "        _, predicted = torch.max(outputs, 1)\n",
    "        total += labels.size(0)\n",
    "        correct += (predicted == labels).sum().item()\n",
    "\n",
    "print(f\"\\nPrecisión en test: {100 * correct / total}%\")"
   ]
  },
  {
   "cell_type": "code",
   "execution_count": 10,
   "metadata": {},
   "outputs": [
    {
     "data": {
      "image/png": "[encoded data removed]",
      "text/plain": [
       "<Figure size 700x700 with 9 Axes>"
      ]
     },
     "metadata": {},
     "output_type": "display_data"
    }
   ],
   "source": [
    "# Probamos el modelo sobre algunos ejemplos de imágenes\n",
    "dataiter = iter(testloader)\n",
    "images, labels = next(dataiter)\n",
    "outputs = model(images)\n",
    "_, predicted = torch.max(outputs, 1)\n",
    "\n",
    "fig, axes = plt.subplots(3, 3, figsize=(7, 7))\n",
    "fig.suptitle(\"Predicciones del modelo para ejemplos de imágenes MNIST\")\n",
    "for i, ax in enumerate(axes.flat):\n",
    "    ax.imshow(images[i].numpy().squeeze(), cmap='gray')\n",
    "    ax.set_title(f\"Etiqueta: {labels[i].item()}\\nPredicción: {predicted[i].item()}\", color='green' if labels[i] == predicted[i] else 'red', fontsize=6)\n",
    "    ax.axis('off')\n",
    "plt.show()"
   ]
  },
  {
   "cell_type": "markdown",
   "metadata": {},
   "source": [
    "\n",
    "## **7. Guardar y Cargar Modelos**\n",
    "\n",
    "Puedes guardar modelos entrenados para usarlos más tarde o para continuar su entrenamiento."
   ]
  },
  {
   "cell_type": "code",
   "execution_count": 11,
   "metadata": {},
   "outputs": [
    {
     "name": "stdout",
     "output_type": "stream",
     "text": [
      "\n",
      "Precisión del modelo cargado: 97.02%\n"
     ]
    }
   ],
   "source": [
    "# Guardamos el modelo\n",
    "PATH = 'modelo_mnist.pth'\n",
    "torch.save(model.state_dict(), PATH)\n",
    "\n",
    "# Cargamos el modelo\n",
    "modelo_cargado = Net()\n",
    "modelo_cargado.load_state_dict(torch.load(PATH))\n",
    "modelo_cargado.eval()\n",
    "\n",
    "# Verificamos que el modelo cargado funciona correctamente\n",
    "correct = 0\n",
    "total = 0\n",
    "with torch.no_grad():\n",
    "    for images, labels in testloader:\n",
    "        outputs = modelo_cargado(images)\n",
    "        _, predicted = torch.max(outputs, 1)\n",
    "        total += labels.size(0)\n",
    "        correct += (predicted == labels).sum().item()\n",
    "\n",
    "print(f\"\\nPrecisión del modelo cargado: {100 * correct / total}%\")"
   ]
  }
 ],
 "metadata": {
  "kernelspec": {
   "display_name": "dlai",
   "language": "python",
   "name": "python3"
  },
  "language_info": {
   "codemirror_mode": {
    "name": "ipython",
    "version": 3
   },
   "file_extension": ".py",
   "mimetype": "text/x-python",
   "name": "python",
   "nbconvert_exporter": "python",
   "pygments_lexer": "ipython3",
   "version": "3.10.15"
  }
 },
 "nbformat": 4,
 "nbformat_minor": 2
}

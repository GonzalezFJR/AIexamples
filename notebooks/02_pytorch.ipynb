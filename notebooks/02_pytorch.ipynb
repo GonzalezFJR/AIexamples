{
 "cells": [
  {
   "cell_type": "markdown",
   "metadata": {},
   "source": [
    "# **Introducción a PyTorch**\n",
    "\n",
    "PyTorch es una biblioteca de código abierto desarrollada por Facebook para computación numérica y aprendizaje automático. Proporciona una plataforma flexible y eficiente para construir y entrenar modelos de aprendizaje automático y redes neuronales profundas.\n",
    "\n",
    "A continuación, se presenta un tutorial paso a paso que cubre las características destacables de PyTorch, desde la creación de tensores hasta el entrenamiento de modelos."
   ]
  },
  {
   "cell_type": "markdown",
   "metadata": {},
   "source": [
    "## **1. Creación de Tensores**\n",
    "\n",
    "Los tensores son la estructura de datos básica en PyTorch. Pueden ser escalares, vectores, matrices o tensores de dimensiones superiores."
   ]
  },
  {
   "cell_type": "code",
   "execution_count": 1,
   "metadata": {},
   "outputs": [
    {
     "name": "stdout",
     "output_type": "stream",
     "text": [
      "Escalar: tensor(7)\n",
      "Vector: tensor([1., 2., 3.])\n",
      "Matriz: tensor([[1, 2],\n",
      "        [3, 4]])\n",
      "Tensor: tensor([[[1, 2],\n",
      "         [3, 4]],\n",
      "\n",
      "        [[5, 6],\n",
      "         [7, 8]]])\n"
     ]
    }
   ],
   "source": [
    "import torch\n",
    "\n",
    "# Escalar (tensor de cero dimensiones)\n",
    "escalar = torch.tensor(7)\n",
    "print(\"Escalar:\", escalar)\n",
    "\n",
    "# Vector (tensor de una dimensión)\n",
    "vector = torch.tensor([1.0, 2.0, 3.0])\n",
    "print(\"Vector:\", vector)\n",
    "\n",
    "# Matriz (tensor de dos dimensiones)\n",
    "matriz = torch.tensor([[1, 2], [3, 4]])\n",
    "print(\"Matriz:\", matriz)\n",
    "\n",
    "# Tensor de dimensiones superiores\n",
    "tensor = torch.tensor([[[1, 2], [3, 4]], [[5, 6], [7, 8]]])\n",
    "print(\"Tensor:\", tensor)"
   ]
  },
  {
   "cell_type": "markdown",
   "metadata": {},
   "source": [
    "\n",
    "## **2. Operaciones Básicas con Tensores**\n",
    "\n",
    "Puedes realizar operaciones matemáticas con tensores, como suma, resta, multiplicación, etc."
   ]
  },
  {
   "cell_type": "code",
   "execution_count": 2,
   "metadata": {},
   "outputs": [
    {
     "name": "stdout",
     "output_type": "stream",
     "text": [
      "Suma: tensor([5, 7, 9])\n",
      "Multiplicación: tensor([ 4, 10, 18])\n",
      "Producto Matricial: tensor([[19, 22],\n",
      "        [43, 50]])\n"
     ]
    }
   ],
   "source": [
    "a = torch.tensor([1, 2, 3])\n",
    "b = torch.tensor([4, 5, 6])\n",
    "\n",
    "# Suma\n",
    "suma = torch.add(a, b)\n",
    "print(\"Suma:\", suma)\n",
    "\n",
    "# Multiplicación\n",
    "a = torch.tensor([1, 2, 3])\n",
    "b = torch.tensor([4, 5, 6])\n",
    "multiplicacion = torch.mul(a, b)\n",
    "print(\"Multiplicación:\", multiplicacion)\n",
    "\n",
    "# Producto matricial\n",
    "matriz1 = torch.tensor([[1, 2], [3, 4]])\n",
    "matriz2 = torch.tensor([[5, 6], [7, 8]])\n",
    "producto = torch.matmul(matriz1, matriz2)\n",
    "print(\"Producto Matricial:\", producto)"
   ]
  },
  {
   "cell_type": "markdown",
   "metadata": {},
   "source": [
    "\n",
    "## **3. Gradientes y Auto-Diferenciación**\n",
    "\n",
    "PyTorch permite calcular gradientes automáticamente utilizando `torch.autograd`. Esto es útil para el entrenamiento de modelos mediante optimización basada en gradientes."
   ]
  },
  {
   "cell_type": "code",
   "execution_count": 3,
   "metadata": {},
   "outputs": [
    {
     "name": "stdout",
     "output_type": "stream",
     "text": [
      "El gradiente de y respecto a x en x=3.0 es: tensor(6.)\n"
     ]
    }
   ],
   "source": [
    "# Definimos una variable\n",
    "x = torch.tensor(3.0, requires_grad=True)\n",
    "\n",
    "# Calculamos la función para la cual queremos el gradiente\n",
    "y = x ** 2\n",
    "\n",
    "# Calculamos el gradiente de y respecto a x\n",
    "y.backward()\n",
    "print(\"El gradiente de y respecto a x en x=3.0 es:\", x.grad)"
   ]
  },
  {
   "cell_type": "markdown",
   "metadata": {},
   "source": [
    "## **4. Construcción de un Modelo de Regresión Lineal**\n",
    "\n",
    "Ahora, veamos un ejemplo completo de cómo construir y entrenar un modelo sencillo usando PyTorch: una regresión lineal."
   ]
  },
  {
   "cell_type": "code",
   "execution_count": 4,
   "metadata": {},
   "outputs": [
    {
     "name": "stdout",
     "output_type": "stream",
     "text": [
      "Epoch 10: pérdida = 0.2644321620464325, W = 2.0474979877471924, b = 0.599180281162262\n",
      "Epoch 20: pérdida = 0.25669920444488525, W = 2.043412685394287, b = 0.6265784502029419\n",
      "Epoch 30: pérdida = 0.2496991753578186, W = 2.0394937992095947, b = 0.652641773223877\n",
      "Epoch 40: pérdida = 0.24336214363574982, W = 2.0357649326324463, b = 0.6774399876594543\n",
      "Epoch 50: pérdida = 0.2376256138086319, W = 2.032217264175415, b = 0.7010341882705688\n",
      "Epoch 60: pérdida = 0.23243264853954315, W = 2.028841972351074, b = 0.7234830856323242\n",
      "Epoch 70: pérdida = 0.22773140668869019, W = 2.025630474090576, b = 0.744841992855072\n",
      "Epoch 80: pérdida = 0.22347567975521088, W = 2.0225746631622314, b = 0.7651641964912415\n",
      "Epoch 90: pérdida = 0.21962308883666992, W = 2.019667387008667, b = 0.7844997644424438\n",
      "Epoch 100: pérdida = 0.21613530814647675, W = 2.0169012546539307, b = 0.8028967380523682\n",
      "\n",
      "Modelo entrenado: Y = 2.0169012546539307 * X + 0.8028967380523682\n"
     ]
    }
   ],
   "source": [
    "import torch\n",
    "import numpy as np\n",
    "\n",
    "# Generamos datos de ejemplo\n",
    "# y = 2x + 1 + ruido\n",
    "X = np.linspace(0, 10, 100)\n",
    "ruido = np.random.randn(*X.shape) * 0.5\n",
    "Y = 2 * X + 1 + ruido\n",
    "\n",
    "# Convertimos los datos a tensores\n",
    "X = torch.tensor(X, dtype=torch.float32).view(-1, 1)\n",
    "Y = torch.tensor(Y, dtype=torch.float32).view(-1, 1)\n",
    "\n",
    "# Definimos el modelo lineal\n",
    "W = torch.randn(1, requires_grad=True)\n",
    "b = torch.randn(1, requires_grad=True)\n",
    "\n",
    "# Definimos el número de épocas y la tasa de aprendizaje\n",
    "epochs = 100\n",
    "learning_rate = 0.01\n",
    "\n",
    "# Entrenamiento del modelo\n",
    "for epoch in range(epochs):\n",
    "    # Calculamos las predicciones\n",
    "    Y_pred = W * X + b\n",
    "    # Calculamos el error (función de pérdida)\n",
    "    loss = torch.mean((Y - Y_pred) ** 2)\n",
    "    # Calculamos los gradientes\n",
    "    loss.backward()\n",
    "    # Actualizamos los parámetros\n",
    "    with torch.no_grad():\n",
    "        W -= learning_rate * W.grad\n",
    "        b -= learning_rate * b.grad\n",
    "    # Vaciamos los gradientes\n",
    "    W.grad.zero_()\n",
    "    b.grad.zero_()\n",
    "\n",
    "    if (epoch+1) % 10 == 0:\n",
    "        print(f\"Epoch {epoch+1}: pérdida = {loss.item()}, W = {W.item()}, b = {b.item()}\")\n",
    "\n",
    "print(f\"\\nModelo entrenado: Y = {W.item()} * X + {b.item()}\")"
   ]
  },
  {
   "cell_type": "markdown",
   "metadata": {},
   "source": [
    "## **5. Uso de PyTorch nn para Construir y Entrenar Modelos**\n",
    "\n",
    "PyTorch incluye el módulo `torch.nn`, que proporciona una API de alto nivel para construir y entrenar modelos de forma más sencilla."
   ]
  },
  {
   "cell_type": "code",
   "execution_count": 6,
   "metadata": {},
   "outputs": [
    {
     "name": "stdout",
     "output_type": "stream",
     "text": [
      "\n",
      "Modelo entrenado: [Parameter containing:\n",
      "tensor([[2.0473]], requires_grad=True), Parameter containing:\n",
      "tensor([0.6193], requires_grad=True)]\n"
     ]
    }
   ],
   "source": [
    "import torch\n",
    "import torch.nn as nn\n",
    "import numpy as np\n",
    "\n",
    "# Generamos datos de ejemplo\n",
    "X = np.linspace(0, 10, 100)\n",
    "ruido = np.random.randn(*X.shape) * 0.5\n",
    "Y = 2 * X + 1 + ruido\n",
    "\n",
    "# Convertimos los datos a tensores\n",
    "X = torch.tensor(X, dtype=torch.float32).view(-1, 1)\n",
    "Y = torch.tensor(Y, dtype=torch.float32).view(-1, 1)\n",
    "\n",
    "# Definimos el modelo usando nn\n",
    "model = nn.Sequential(\n",
    "    nn.Linear(1, 1)\n",
    ")\n",
    "\n",
    "# Definimos la función de pérdida y el optimizador\n",
    "criterion = nn.MSELoss()\n",
    "optimizer = torch.optim.SGD(model.parameters(), lr=0.01)\n",
    "\n",
    "# Entrenamos el modelo\n",
    "epochs = 100\n",
    "for epoch in range(epochs):\n",
    "    # Hacemos una predicción\n",
    "    Y_pred = model(X)\n",
    "    # Calculamos la pérdida\n",
    "    loss = criterion(Y_pred, Y)\n",
    "    # Retropropagación\n",
    "    optimizer.zero_grad()\n",
    "    loss.backward()\n",
    "    optimizer.step()\n",
    "\n",
    "print(f\"\\nModelo entrenado: {list(model.parameters())}\")"
   ]
  },
  {
   "cell_type": "markdown",
   "metadata": {},
   "source": [
    "## **6. Construcción de una Red Neuronal para Clasificación**\n",
    "\n",
    "Veamos un ejemplo de cómo construir una red neuronal para resolver un problema de clasificación utilizando el conjunto de datos MNIST."
   ]
  },
  {
   "cell_type": "code",
   "execution_count": 7,
   "metadata": {},
   "outputs": [
    {
     "name": "stdout",
     "output_type": "stream",
     "text": [
      "Downloading http://yann.lecun.com/exdb/mnist/train-images-idx3-ubyte.gz\n",
      "Failed to download (trying next):\n",
      "<urlopen error [SSL: CERTIFICATE_VERIFY_FAILED] certificate verify failed: certificate has expired (_ssl.c:1007)>\n",
      "\n",
      "Downloading https://ossci-datasets.s3.amazonaws.com/mnist/train-images-idx3-ubyte.gz\n",
      "Downloading https://ossci-datasets.s3.amazonaws.com/mnist/train-images-idx3-ubyte.gz to ./data\\MNIST\\raw\\train-images-idx3-ubyte.gz\n"
     ]
    },
    {
     "name": "stderr",
     "output_type": "stream",
     "text": [
      "100.0%\n"
     ]
    },
    {
     "name": "stdout",
     "output_type": "stream",
     "text": [
      "Extracting ./data\\MNIST\\raw\\train-images-idx3-ubyte.gz to ./data\\MNIST\\raw\n",
      "\n",
      "Downloading http://yann.lecun.com/exdb/mnist/train-labels-idx1-ubyte.gz\n",
      "Failed to download (trying next):\n",
      "<urlopen error [SSL: CERTIFICATE_VERIFY_FAILED] certificate verify failed: certificate has expired (_ssl.c:1007)>\n",
      "\n",
      "Downloading https://ossci-datasets.s3.amazonaws.com/mnist/train-labels-idx1-ubyte.gz\n",
      "Downloading https://ossci-datasets.s3.amazonaws.com/mnist/train-labels-idx1-ubyte.gz to ./data\\MNIST\\raw\\train-labels-idx1-ubyte.gz\n"
     ]
    },
    {
     "name": "stderr",
     "output_type": "stream",
     "text": [
      "100.0%\n"
     ]
    },
    {
     "name": "stdout",
     "output_type": "stream",
     "text": [
      "Extracting ./data\\MNIST\\raw\\train-labels-idx1-ubyte.gz to ./data\\MNIST\\raw\n",
      "\n",
      "Downloading http://yann.lecun.com/exdb/mnist/t10k-images-idx3-ubyte.gz\n",
      "Failed to download (trying next):\n",
      "<urlopen error [SSL: CERTIFICATE_VERIFY_FAILED] certificate verify failed: certificate has expired (_ssl.c:1007)>\n",
      "\n",
      "Downloading https://ossci-datasets.s3.amazonaws.com/mnist/t10k-images-idx3-ubyte.gz\n",
      "Downloading https://ossci-datasets.s3.amazonaws.com/mnist/t10k-images-idx3-ubyte.gz to ./data\\MNIST\\raw\\t10k-images-idx3-ubyte.gz\n"
     ]
    },
    {
     "name": "stderr",
     "output_type": "stream",
     "text": [
      "100.0%\n"
     ]
    },
    {
     "name": "stdout",
     "output_type": "stream",
     "text": [
      "Extracting ./data\\MNIST\\raw\\t10k-images-idx3-ubyte.gz to ./data\\MNIST\\raw\n",
      "\n",
      "Downloading http://yann.lecun.com/exdb/mnist/t10k-labels-idx1-ubyte.gz\n",
      "Failed to download (trying next):\n",
      "<urlopen error [SSL: CERTIFICATE_VERIFY_FAILED] certificate verify failed: certificate has expired (_ssl.c:1007)>\n",
      "\n",
      "Downloading https://ossci-datasets.s3.amazonaws.com/mnist/t10k-labels-idx1-ubyte.gz\n",
      "Downloading https://ossci-datasets.s3.amazonaws.com/mnist/t10k-labels-idx1-ubyte.gz to ./data\\MNIST\\raw\\t10k-labels-idx1-ubyte.gz\n"
     ]
    },
    {
     "name": "stderr",
     "output_type": "stream",
     "text": [
      "100.0%"
     ]
    },
    {
     "name": "stdout",
     "output_type": "stream",
     "text": [
      "Extracting ./data\\MNIST\\raw\\t10k-labels-idx1-ubyte.gz to ./data\\MNIST\\raw\n",
      "\n"
     ]
    },
    {
     "name": "stderr",
     "output_type": "stream",
     "text": [
      "\n"
     ]
    }
   ],
   "source": [
    "import torch\n",
    "import torch.nn as nn\n",
    "import torch.optim as optim\n",
    "import torchvision\n",
    "import torchvision.transforms as transforms\n",
    "import matplotlib.pyplot as plt\n",
    "\n",
    "# Cargamos el conjunto de datos MNIST\n",
    "transform = transforms.Compose([transforms.ToTensor(), transforms.Normalize((0.5,), (0.5,))])\n",
    "trainset = torchvision.datasets.MNIST(root='./data', train=True, download=True, transform=transform)\n",
    "trainloader = torch.utils.data.DataLoader(trainset, batch_size=64, shuffle=True)\n",
    "testset = torchvision.datasets.MNIST(root='./data', train=False, download=True, transform=transform)\n",
    "testloader = torch.utils.data.DataLoader(testset, batch_size=64, shuffle=False)"
   ]
  },
  {
   "cell_type": "code",
   "execution_count": 9,
   "metadata": {},
   "outputs": [
    {
     "name": "stdout",
     "output_type": "stream",
     "text": [
      "Tamaño del conjunto de entrenamiento: 60000\n",
      "Tamaño del conjunto de prueba: 10000\n"
     ]
    },
    {
     "data": {
      "image/png": "[encoded data removed]",
      "text/plain": [
       "<Figure size 1000x1000 with 25 Axes>"
      ]
     },
     "metadata": {},
     "output_type": "display_data"
    }
   ],
   "source": [
    "# Mostramos el tamaño de los datasets\n",
    "print(f\"Tamaño del conjunto de entrenamiento: {len(trainset)}\")\n",
    "print(f\"Tamaño del conjunto de prueba: {len(testset)}\")\n",
    "\n",
    "# Mostramos una matriz de 5x5 ejemplos de imágenes con sus etiquetas\n",
    "dataiter = iter(trainloader)\n",
    "images, labels = next(dataiter)\n",
    "fig, axes = plt.subplots(5, 5, figsize=(10, 10))\n",
    "fig.suptitle(\"Ejemplos de imágenes MNIST con etiquetas\")\n",
    "for i, ax in enumerate(axes.flat):\n",
    "    ax.imshow(images[i].numpy().squeeze(), cmap='gray')\n",
    "    ax.set_title(f\"Etiqueta: {labels[i].item()}\")\n",
    "    ax.axis('off')\n",
    "plt.show()"
   ]
  },
  {
   "cell_type": "code",
   "execution_count": 10,
   "metadata": {},
   "outputs": [],
   "source": [
    "# Construimos el modelo\n",
    "class Net(nn.Module):\n",
    "    def __init__(self):\n",
    "        super(Net, self).__init__()\n",
    "        self.flatten = nn.Flatten()\n",
    "        self.fc1 = nn.Linear(28 * 28, 128)\n",
    "        self.fc2 = nn.Linear(128, 10)\n",
    "\n",
    "    def forward(self, x):\n",
    "        x = self.flatten(x)\n",
    "        x = torch.relu(self.fc1(x))\n",
    "        x = self.fc2(x)\n",
    "        return x\n",
    "\n",
    "model = Net()\n",
    "\n",
    "# Definimos la función de pérdida y el optimizador\n",
    "criterion = nn.CrossEntropyLoss()\n",
    "optimizer = optim.Adam(model.parameters(), lr=0.001)\n",
    "\n",
    "# Entrenamos el modelo\n",
    "for epoch in range(5):\n",
    "    for images, labels in trainloader:\n",
    "        # Hacemos una predicción\n",
    "        outputs = model(images)\n",
    "        # Calculamos la pérdida\n",
    "        loss = criterion(outputs, labels)\n",
    "        # Retropropagación\n",
    "        optimizer.zero_grad()\n",
    "        loss.backward()\n",
    "        optimizer.step()"
   ]
  },
  {
   "cell_type": "code",
   "execution_count": 11,
   "metadata": {},
   "outputs": [
    {
     "name": "stdout",
     "output_type": "stream",
     "text": [
      "\n",
      "Precisión en test: 96.18%\n"
     ]
    }
   ],
   "source": [
    "# Evaluamos el modelo\n",
    "correct = 0\n",
    "total = 0\n",
    "with torch.no_grad():\n",
    "    for images, labels in testloader:\n",
    "        outputs = model(images)\n",
    "        _, predicted = torch.max(outputs, 1)\n",
    "        total += labels.size(0)\n",
    "        correct += (predicted == labels).sum().item()\n",
    "\n",
    "print(f\"\\nPrecisión en test: {100 * correct / total}%\")"
   ]
  },
  {
   "cell_type": "code",
   "execution_count": 14,
   "metadata": {},
   "outputs": [
    {
     "data": {
      "image/png": "[encoded data removed]",
      "text/plain": [
       "<Figure size 700x700 with 9 Axes>"
      ]
     },
     "metadata": {},
     "output_type": "display_data"
    }
   ],
   "source": [
    "# Probamos el modelo sobre algunos ejemplos de imágenes\n",
    "dataiter = iter(testloader)\n",
    "images, labels = next(dataiter)\n",
    "outputs = model(images)\n",
    "_, predicted = torch.max(outputs, 1)\n",
    "\n",
    "fig, axes = plt.subplots(3, 3, figsize=(7, 7))\n",
    "fig.suptitle(\"Predicciones del modelo para ejemplos de imágenes MNIST\")\n",
    "for i, ax in enumerate(axes.flat):\n",
    "    ax.imshow(images[i].numpy().squeeze(), cmap='gray')\n",
    "    ax.set_title(f\"Etiqueta: {labels[i].item()}\\nPredicción: {predicted[i].item()}\", color='green' if labels[i] == predicted[i] else 'red', fontsize=6)\n",
    "    ax.axis('off')\n",
    "plt.show()"
   ]
  },
  {
   "cell_type": "markdown",
   "metadata": {},
   "source": [
    "\n",
    "## **7. Guardar y Cargar Modelos**\n",
    "\n",
    "Puedes guardar modelos entrenados para usarlos más tarde o para continuar su entrenamiento."
   ]
  },
  {
   "cell_type": "code",
   "execution_count": 15,
   "metadata": {},
   "outputs": [
    {
     "name": "stdout",
     "output_type": "stream",
     "text": [
      "\n",
      "Precisión del modelo cargado: 96.18%\n"
     ]
    }
   ],
   "source": [
    "# Guardamos el modelo\n",
    "PATH = 'modelo_mnist.pth'\n",
    "torch.save(model.state_dict(), PATH)\n",
    "\n",
    "# Cargamos el modelo\n",
    "modelo_cargado = Net()\n",
    "modelo_cargado.load_state_dict(torch.load(PATH))\n",
    "modelo_cargado.eval()\n",
    "\n",
    "# Verificamos que el modelo cargado funciona correctamente\n",
    "correct = 0\n",
    "total = 0\n",
    "with torch.no_grad():\n",
    "    for images, labels in testloader:\n",
    "        outputs = modelo_cargado(images)\n",
    "        _, predicted = torch.max(outputs, 1)\n",
    "        total += labels.size(0)\n",
    "        correct += (predicted == labels).sum().item()\n",
    "\n",
    "print(f\"\\nPrecisión del modelo cargado: {100 * correct / total}%\")"
   ]
  }
 ],
 "metadata": {
  "kernelspec": {
   "display_name": "dlai",
   "language": "python",
   "name": "python3"
  },
  "language_info": {
   "codemirror_mode": {
    "name": "ipython",
    "version": 3
   },
   "file_extension": ".py",
   "mimetype": "text/x-python",
   "name": "python",
   "nbconvert_exporter": "python",
   "pygments_lexer": "ipython3",
   "version": "3.10.15"
  }
 },
 "nbformat": 4,
 "nbformat_minor": 2
}

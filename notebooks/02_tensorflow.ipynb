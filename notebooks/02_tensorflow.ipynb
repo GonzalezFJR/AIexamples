{
 "cells": [
  {
   "cell_type": "markdown",
   "metadata": {},
   "source": [
    "# **Introducción a TensorFlow**\n",
    "\n",
    "TensorFlow es una biblioteca de código abierto desarrollada por Google para computación numérica y aprendizaje automático a gran escala. Proporciona una plataforma flexible y eficiente para construir y entrenar modelos de aprendizaje automático y redes neuronales profundas.\n",
    "\n",
    "A continuación, se presenta un tutorial paso a paso que cubre las características destacables de TensorFlow, desde la creación de tensores hasta el entrenamiento de modelos."
   ]
  },
  {
   "cell_type": "markdown",
   "metadata": {},
   "source": [
    "## **1. Creación de Tensores**\n",
    "\n",
    "Los tensores son la estructura de datos básica en TensorFlow. Pueden ser escalares, vectores, matrices o tensores de dimensiones superiores."
   ]
  },
  {
   "cell_type": "code",
   "execution_count": 1,
   "metadata": {},
   "outputs": [
    {
     "name": "stdout",
     "output_type": "stream",
     "text": [
      "Escalar: tf.Tensor(7, shape=(), dtype=int32)\n",
      "Vector: tf.Tensor([1. 2. 3.], shape=(3,), dtype=float32)\n",
      "Matriz: tf.Tensor(\n",
      "[[1 2]\n",
      " [3 4]], shape=(2, 2), dtype=int32)\n",
      "Tensor: tf.Tensor(\n",
      "[[[1 2]\n",
      "  [3 4]]\n",
      "\n",
      " [[5 6]\n",
      "  [7 8]]], shape=(2, 2, 2), dtype=int32)\n"
     ]
    }
   ],
   "source": [
    "import tensorflow as tf\n",
    "\n",
    "# Escalar (tensor de cero dimensiones)\n",
    "escalar = tf.constant(7)\n",
    "print(\"Escalar:\", escalar)\n",
    "\n",
    "# Vector (tensor de una dimensión)\n",
    "vector = tf.constant([1.0, 2.0, 3.0])\n",
    "print(\"Vector:\", vector)\n",
    "\n",
    "# Matriz (tensor de dos dimensiones)\n",
    "matriz = tf.constant([[1, 2], [3, 4]])\n",
    "print(\"Matriz:\", matriz)\n",
    "\n",
    "# Tensor de dimensiones superiores\n",
    "tensor = tf.constant([[[1, 2], [3, 4]], [[5, 6], [7, 8]]])\n",
    "print(\"Tensor:\", tensor)"
   ]
  },
  {
   "cell_type": "markdown",
   "metadata": {},
   "source": [
    "## **2. Operaciones Básicas con Tensores**\n",
    "\n",
    "Puedes realizar operaciones matemáticas con tensores, como suma, resta, multiplicación, etc."
   ]
  },
  {
   "cell_type": "code",
   "execution_count": 2,
   "metadata": {},
   "outputs": [
    {
     "name": "stdout",
     "output_type": "stream",
     "text": [
      "Suma: tf.Tensor([5 7 9], shape=(3,), dtype=int32)\n",
      "Multiplicación: tf.Tensor([ 4 10 18], shape=(3,), dtype=int32)\n",
      "Producto Matricial: tf.Tensor(\n",
      "[[19 22]\n",
      " [43 50]], shape=(2, 2), dtype=int32)\n"
     ]
    }
   ],
   "source": [
    "a = tf.constant([1, 2, 3])\n",
    "b = tf.constant([4, 5, 6])\n",
    "\n",
    "# Suma\n",
    "suma = tf.add(a, b)\n",
    "print(\"Suma:\", suma)\n",
    "\n",
    "# Multiplicación\n",
    "multiplicacion = tf.multiply(a, b)\n",
    "print(\"Multiplicación:\", multiplicacion)\n",
    "\n",
    "# Producto matricial\n",
    "matriz1 = tf.constant([[1, 2], [3, 4]])\n",
    "matriz2 = tf.constant([[5, 6], [7, 8]])\n",
    "producto = tf.matmul(matriz1, matriz2)\n",
    "print(\"Producto Matricial:\", producto)"
   ]
  },
  {
   "cell_type": "markdown",
   "metadata": {},
   "source": [
    "## **3. Gradientes y Auto-Diferenciación**\n",
    "\n",
    "TensorFlow permite calcular gradientes automáticamente utilizando `tf.GradientTape`. Esto es útil para el entrenamiento de modelos mediante optimización basada en gradientes."
   ]
  },
  {
   "cell_type": "code",
   "execution_count": 3,
   "metadata": {},
   "outputs": [
    {
     "name": "stdout",
     "output_type": "stream",
     "text": [
      "El gradiente de y respecto a x en x=3.0 es: 6.0\n"
     ]
    }
   ],
   "source": [
    "# Definimos una variable\n",
    "x = tf.Variable(3.0)\n",
    "\n",
    "# Abrimos un contexto de GradientTape: es donde se calculan los gradientes\n",
    "with tf.GradientTape() as tape:\n",
    "    # Calculamos la función para la cual queremos el gradiente\n",
    "    y = x ** 2\n",
    "\n",
    "# Calculamos el gradiente de y respecto a x\n",
    "gradiente = tape.gradient(y, x)\n",
    "print(\"El gradiente de y respecto a x en x=3.0 es:\", gradiente.numpy())"
   ]
  },
  {
   "cell_type": "markdown",
   "metadata": {},
   "source": [
    "## **4. Construcción de un Modelo de Regresión Lineal**\n",
    "\n",
    "Ahora, veamos un ejemplo completo de cómo construir y entrenar un modelo sencillo usando TensorFlow: una regresión lineal.\n",
    "\n",
    "Este ejemplo está hecho \"a mano\"!!!"
   ]
  },
  {
   "cell_type": "code",
   "execution_count": 4,
   "metadata": {},
   "outputs": [
    {
     "name": "stdout",
     "output_type": "stream",
     "text": [
      "Epoch 10: pérdida = 0.2812432050704956, W = [2.0178018], b = [0.9052763]\n",
      "Epoch 20: pérdida = 0.28030240535736084, W = [2.0163846], b = [0.9148339]\n",
      "Epoch 30: pérdida = 0.27945074439048767, W = [2.0150177], b = [0.9239248]\n",
      "Epoch 40: pérdida = 0.278679758310318, W = [2.0137172], b = [0.93257433]\n",
      "Epoch 50: pérdida = 0.27798184752464294, W = [2.0124798], b = [0.9408039]\n",
      "Epoch 60: pérdida = 0.2773500382900238, W = [2.0113022], b = [0.948634]\n",
      "Epoch 70: pérdida = 0.2767781913280487, W = [2.0101821], b = [0.956084]\n",
      "Epoch 80: pérdida = 0.27626028656959534, W = [2.0091164], b = [0.96317244]\n",
      "Epoch 90: pérdida = 0.27579158544540405, W = [2.0081022], b = [0.9699167]\n",
      "Epoch 100: pérdida = 0.27536728978157043, W = [2.0071375], b = [0.9763336]\n",
      "\n",
      "Modelo entrenado: Y = 2.0071375370025635 * X + 0.9763336181640625\n"
     ]
    }
   ],
   "source": [
    "import tensorflow as tf\n",
    "import numpy as np\n",
    "\n",
    "# Generamos datos de ejemplo\n",
    "# y = 2x + 1 + ruido\n",
    "X = np.linspace(0, 10, 100)\n",
    "ruido = np.random.randn(*X.shape) * 0.5\n",
    "Y = 2 * X + 1 + ruido\n",
    "\n",
    "# Convertimos los datos a tensores\n",
    "X = tf.constant(X, dtype=tf.float32)\n",
    "Y = tf.constant(Y, dtype=tf.float32)\n",
    "\n",
    "# Definimos variables para los parámetros del modelo\n",
    "W = tf.Variable(tf.random.normal([1]))\n",
    "b = tf.Variable(tf.random.normal([1]))\n",
    "\n",
    "# Definimos el número de épocas y la tasa de aprendizaje\n",
    "epochs = 100\n",
    "learning_rate = 0.01\n",
    "\n",
    "# Entrenamiento del modelo\n",
    "for epoch in range(epochs):\n",
    "    with tf.GradientTape() as tape:\n",
    "        # Calculamos las predicciones\n",
    "        Y_pred = W * X + b\n",
    "        # Calculamos el error (función de pérdida)\n",
    "        loss = tf.reduce_mean(tf.square(Y - Y_pred))\n",
    "    # Calculamos los gradientes respecto a W y b\n",
    "    gradients = tape.gradient(loss, [W, b])\n",
    "    # Actualizamos los parámetros usando el optimizador SGD\n",
    "    W.assign_sub(learning_rate * gradients[0])\n",
    "    b.assign_sub(learning_rate * gradients[1])\n",
    "\n",
    "    if (epoch+1) % 10 == 0:\n",
    "        print(f\"Epoch {epoch+1}: pérdida = {loss.numpy()}, W = {W.numpy()}, b = {b.numpy()}\")\n",
    "\n",
    "print(f\"\\nModelo entrenado: Y = {W.numpy()[0]} * X + {b.numpy()[0]}\")"
   ]
  },
  {
   "cell_type": "markdown",
   "metadata": {},
   "source": [
    "## **5. Uso de Keras para Construir y Entrenar Modelos**\n",
    "\n",
    "TensorFlow incluye Keras, una API de alto nivel para construir y entrenar modelos de forma más sencilla."
   ]
  },
  {
   "cell_type": "code",
   "execution_count": 5,
   "metadata": {},
   "outputs": [
    {
     "name": "stderr",
     "output_type": "stream",
     "text": [
      "C:\\Users\\juano\\AppData\\Roaming\\Python\\Python310\\site-packages\\keras\\src\\layers\\core\\dense.py:87: UserWarning: Do not pass an `input_shape`/`input_dim` argument to a layer. When using Sequential models, prefer using an `Input(shape)` object as the first layer in the model instead.\n",
      "  super().__init__(activity_regularizer=activity_regularizer, **kwargs)\n"
     ]
    },
    {
     "name": "stdout",
     "output_type": "stream",
     "text": [
      "\n",
      "Modelo entrenado: Y = 2.034008264541626 * X + 0.8488515019416809\n"
     ]
    }
   ],
   "source": [
    "import tensorflow as tf\n",
    "import numpy as np\n",
    "\n",
    "# Generamos datos de ejemplo\n",
    "X = np.linspace(0, 10, 100)\n",
    "ruido = np.random.randn(*X.shape) * 0.5\n",
    "Y = 2 * X + 1 + ruido\n",
    "\n",
    "# Construimos el modelo usando Keras\n",
    "model = tf.keras.Sequential([\n",
    "    tf.keras.layers.Dense(1, input_shape=(1,)) # Capa densa con una neurona\n",
    "])\n",
    "\n",
    "# Compilamos el modelo\n",
    "model.compile(optimizer='sgd', loss='mean_squared_error') \n",
    "# sgd = Stochastic Gradient Descent (Descenso de Gradiente Estocástico) --> Lo veremos más adelante, en el tema 5\n",
    "# mean_squared_error = Error Cuadrático Medio\n",
    "\n",
    "# Entrenamos el modelo\n",
    "model.fit(X, Y, epochs=100, verbose=0)\n",
    "\n",
    "# Obtenemos los parámetros entrenados\n",
    "W, b = model.layers[0].get_weights()\n",
    "print(f\"\\nModelo entrenado: Y = {W[0][0]} * X + {b[0]}\")"
   ]
  },
  {
   "cell_type": "markdown",
   "metadata": {},
   "source": [
    "## **6. Construcción de una Red Neuronal para Clasificación**\n",
    "\n",
    "Veamos un ejemplo de cómo construir una red neuronal para resolver un problema de clasificación utilizando el conjunto de datos MNIST."
   ]
  },
  {
   "cell_type": "code",
   "execution_count": 6,
   "metadata": {},
   "outputs": [
    {
     "name": "stdout",
     "output_type": "stream",
     "text": [
      "Tamaño del conjunto de entrenamiento: (60000, 28, 28)\n",
      "Tamaño del conjunto de prueba: (10000, 28, 28)\n"
     ]
    },
    {
     "data": {
      "image/png": "[encoded data removed]",
      "text/plain": [
       "<Figure size 1000x1000 with 25 Axes>"
      ]
     },
     "metadata": {},
     "output_type": "display_data"
    }
   ],
   "source": [
    "import tensorflow as tf\n",
    "import matplotlib.pyplot as plt\n",
    "\n",
    "# Cargamos el conjunto de datos MNIST\n",
    "mnist = tf.keras.datasets.mnist\n",
    "\n",
    "# Dividimos los datos en entrenamiento y prueba\n",
    "(X_train, y_train), (X_test, y_test) = mnist.load_data()\n",
    "\n",
    "# Normalizamos los datos\n",
    "X_train = X_train / 255.0\n",
    "X_test = X_test / 255.0\n",
    "\n",
    "# Mostramos el tamaño de los datasets\n",
    "print(f\"Tamaño del conjunto de entrenamiento: {X_train.shape}\")\n",
    "print(f\"Tamaño del conjunto de prueba: {X_test.shape}\")\n",
    "\n",
    "# Mostramos una matriz de 5x5 ejemplos de imágenes con sus etiquetas\n",
    "fig, axes = plt.subplots(5, 5, figsize=(10, 10))\n",
    "fig.suptitle(\"Ejemplos de imágenes MNIST con etiquetas\")\n",
    "for i, ax in enumerate(axes.flat):\n",
    "    ax.imshow(X_train[i], cmap='gray')\n",
    "    ax.set_title(f\"Etiqueta: {y_train[i]}\")\n",
    "    ax.axis('off')\n",
    "plt.show()"
   ]
  },
  {
   "cell_type": "code",
   "execution_count": 7,
   "metadata": {},
   "outputs": [
    {
     "name": "stdout",
     "output_type": "stream",
     "text": [
      "Epoch 1/5\n"
     ]
    },
    {
     "name": "stderr",
     "output_type": "stream",
     "text": [
      "C:\\Users\\juano\\AppData\\Roaming\\Python\\Python310\\site-packages\\keras\\src\\layers\\reshaping\\flatten.py:37: UserWarning: Do not pass an `input_shape`/`input_dim` argument to a layer. When using Sequential models, prefer using an `Input(shape)` object as the first layer in the model instead.\n",
      "  super().__init__(**kwargs)\n"
     ]
    },
    {
     "name": "stdout",
     "output_type": "stream",
     "text": [
      "\u001b[1m1875/1875\u001b[0m \u001b[32m━━━━━━━━━━━━━━━━━━━━\u001b[0m\u001b[37m\u001b[0m \u001b[1m2s\u001b[0m 879us/step - accuracy: 0.8800 - loss: 0.4273\n",
      "Epoch 2/5\n",
      "\u001b[1m1875/1875\u001b[0m \u001b[32m━━━━━━━━━━━━━━━━━━━━\u001b[0m\u001b[37m\u001b[0m \u001b[1m2s\u001b[0m 849us/step - accuracy: 0.9629 - loss: 0.1223\n",
      "Epoch 3/5\n",
      "\u001b[1m1875/1875\u001b[0m \u001b[32m━━━━━━━━━━━━━━━━━━━━\u001b[0m\u001b[37m\u001b[0m \u001b[1m2s\u001b[0m 844us/step - accuracy: 0.9769 - loss: 0.0765\n",
      "Epoch 4/5\n",
      "\u001b[1m1875/1875\u001b[0m \u001b[32m━━━━━━━━━━━━━━━━━━━━\u001b[0m\u001b[37m\u001b[0m \u001b[1m2s\u001b[0m 852us/step - accuracy: 0.9836 - loss: 0.0526\n",
      "Epoch 5/5\n",
      "\u001b[1m1875/1875\u001b[0m \u001b[32m━━━━━━━━━━━━━━━━━━━━\u001b[0m\u001b[37m\u001b[0m \u001b[1m2s\u001b[0m 859us/step - accuracy: 0.9877 - loss: 0.0417\n",
      "\u001b[1m313/313\u001b[0m \u001b[32m━━━━━━━━━━━━━━━━━━━━\u001b[0m\u001b[37m\u001b[0m \u001b[1m0s\u001b[0m 595us/step - accuracy: 0.9722 - loss: 0.0889\n",
      "\n",
      "Pérdida en test: 0.07669886201620102\n",
      "Precisión en test: 0.9761999845504761\n"
     ]
    }
   ],
   "source": [
    "# Construimos el modelo\n",
    "model = tf.keras.Sequential([\n",
    "    tf.keras.layers.Flatten(input_shape=(28, 28)),  # Aplanamos las imágenes\n",
    "    tf.keras.layers.Dense(128, activation='relu'),  # Capa oculta con activación ReLU\n",
    "    tf.keras.layers.Dense(10, activation='softmax') # Capa de salida con softmax para clasificación\n",
    "])\n",
    "\n",
    "# Compilamos el modelo\n",
    "model.compile(optimizer='adam',\n",
    "              loss='sparse_categorical_crossentropy',\n",
    "              metrics=['accuracy'])\n",
    "\n",
    "# Entrenamos el modelo\n",
    "model.fit(X_train, y_train, epochs=5)\n",
    "\n",
    "# Evaluamos el modelo\n",
    "loss, accuracy = model.evaluate(X_test, y_test)\n",
    "print(f\"\\nPérdida en test: {loss}\")\n",
    "print(f\"Precisión en test: {accuracy}\")"
   ]
  },
  {
   "cell_type": "markdown",
   "metadata": {},
   "source": [
    "## Probemos el modelo con algunos ejemplos"
   ]
  },
  {
   "cell_type": "code",
   "execution_count": 8,
   "metadata": {},
   "outputs": [
    {
     "name": "stdout",
     "output_type": "stream",
     "text": [
      "\u001b[1m1/1\u001b[0m \u001b[32m━━━━━━━━━━━━━━━━━━━━\u001b[0m\u001b[37m\u001b[0m \u001b[1m0s\u001b[0m 38ms/step\n",
      "\u001b[1m1/1\u001b[0m \u001b[32m━━━━━━━━━━━━━━━━━━━━\u001b[0m\u001b[37m\u001b[0m \u001b[1m0s\u001b[0m 16ms/step\n",
      "\u001b[1m1/1\u001b[0m \u001b[32m━━━━━━━━━━━━━━━━━━━━\u001b[0m\u001b[37m\u001b[0m \u001b[1m0s\u001b[0m 16ms/step\n",
      "\u001b[1m1/1\u001b[0m \u001b[32m━━━━━━━━━━━━━━━━━━━━\u001b[0m\u001b[37m\u001b[0m \u001b[1m0s\u001b[0m 22ms/step\n",
      "\u001b[1m1/1\u001b[0m \u001b[32m━━━━━━━━━━━━━━━━━━━━\u001b[0m\u001b[37m\u001b[0m \u001b[1m0s\u001b[0m 14ms/step\n",
      "\u001b[1m1/1\u001b[0m \u001b[32m━━━━━━━━━━━━━━━━━━━━\u001b[0m\u001b[37m\u001b[0m \u001b[1m0s\u001b[0m 15ms/step\n",
      "\u001b[1m1/1\u001b[0m \u001b[32m━━━━━━━━━━━━━━━━━━━━\u001b[0m\u001b[37m\u001b[0m \u001b[1m0s\u001b[0m 16ms/step\n",
      "\u001b[1m1/1\u001b[0m \u001b[32m━━━━━━━━━━━━━━━━━━━━\u001b[0m\u001b[37m\u001b[0m \u001b[1m0s\u001b[0m 16ms/step\n",
      "\u001b[1m1/1\u001b[0m \u001b[32m━━━━━━━━━━━━━━━━━━━━\u001b[0m\u001b[37m\u001b[0m \u001b[1m0s\u001b[0m 15ms/step\n"
     ]
    },
    {
     "data": {
      "image/png": "[encoded data removed]",
      "text/plain": [
       "<Figure size 500x500 with 9 Axes>"
      ]
     },
     "metadata": {},
     "output_type": "display_data"
    }
   ],
   "source": [
    "import matplotlib.pyplot as plt\n",
    "\n",
    "# Probamos el modelo sobre algunos ejemplos de imágenes\n",
    "fig, axes = plt.subplots(3, 3, figsize=(5, 5))\n",
    "fig.suptitle(\"\")\n",
    "for i, ax in enumerate(axes.flat):\n",
    "    img = X_test[i]\n",
    "    ax.imshow(img, cmap='gray')\n",
    "    img = img.reshape(1, 28, 28)\n",
    "    prediction = model.predict(img)\n",
    "    predicted_label = tf.argmax(prediction, axis=1).numpy()[0]\n",
    "    ax.set_title(f\"Etiqueta: {y_test[i]}\\nPredicción: {predicted_label}\", fontsize=8, color=\"red\")\n",
    "    ax.axis('off')\n",
    "plt.show()"
   ]
  },
  {
   "cell_type": "markdown",
   "metadata": {},
   "source": [
    "\n",
    "## **7. Guardar y Cargar Modelos**\n",
    "\n",
    "Puedes guardar modelos entrenados para usarlos más tarde o para continuar su entrenamiento."
   ]
  },
  {
   "cell_type": "code",
   "execution_count": 9,
   "metadata": {},
   "outputs": [
    {
     "name": "stderr",
     "output_type": "stream",
     "text": [
      "WARNING:absl:You are saving your model as an HDF5 file via `model.save()` or `keras.saving.save_model(model)`. This file format is considered legacy. We recommend using instead the native Keras format, e.g. `model.save('my_model.keras')` or `keras.saving.save_model(model, 'my_model.keras')`. \n",
      "WARNING:absl:Compiled the loaded model, but the compiled metrics have yet to be built. `model.compile_metrics` will be empty until you train or evaluate the model.\n"
     ]
    },
    {
     "name": "stdout",
     "output_type": "stream",
     "text": [
      "\u001b[1m313/313\u001b[0m \u001b[32m━━━━━━━━━━━━━━━━━━━━\u001b[0m\u001b[37m\u001b[0m \u001b[1m0s\u001b[0m 574us/step - accuracy: 0.9722 - loss: 0.0889\n",
      "\n",
      "Precisión del modelo cargado: 0.9761999845504761\n"
     ]
    }
   ],
   "source": [
    "# Guardamos el modelo\n",
    "model.save('modelo_mnist.h5')\n",
    "\n",
    "# Cargamos el modelo\n",
    "nuevo_modelo = tf.keras.models.load_model('modelo_mnist.h5')\n",
    "\n",
    "# Verificamos que el modelo cargado funciona correctamente\n",
    "loss, accuracy = nuevo_modelo.evaluate(X_test, y_test)\n",
    "print(f\"\\nPrecisión del modelo cargado: {accuracy}\")"
   ]
  }
 ],
 "metadata": {
  "kernelspec": {
   "display_name": "dlai",
   "language": "python",
   "name": "python3"
  },
  "language_info": {
   "codemirror_mode": {
    "name": "ipython",
    "version": 3
   },
   "file_extension": ".py",
   "mimetype": "text/x-python",
   "name": "python",
   "nbconvert_exporter": "python",
   "pygments_lexer": "ipython3",
   "version": "3.10.15"
  }
 },
 "nbformat": 4,
 "nbformat_minor": 2
}
